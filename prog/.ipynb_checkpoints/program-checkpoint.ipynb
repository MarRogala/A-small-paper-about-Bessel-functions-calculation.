{
 "cells": [
  {
   "cell_type": "markdown",
   "metadata": {},
   "source": [
    "\n",
    "# Pracownia z analizy numerycznej \n",
    "## Doświadczenia do zadania **P1.15**\n",
    "### Marcin Rogala\n"
   ]
  },
  {
   "cell_type": "code",
   "execution_count": 5,
   "metadata": {
    "scrolled": false
   },
   "outputs": [],
   "source": [
    "using PyPlot"
   ]
  },
  {
   "cell_type": "markdown",
   "metadata": {},
   "source": [
    "Tablica poprawnych przybliżeń $J_n(x)$"
   ]
  },
  {
   "cell_type": "code",
   "execution_count": 6,
   "metadata": {},
   "outputs": [
    {
     "data": {
      "text/plain": [
       "31-element Array{Float64,1}:\n",
       " 0.7651976866          \n",
       " 0.4400505857          \n",
       " 0.1149034849319       \n",
       " 0.019563353982668404  \n",
       " 0.002476638964109     \n",
       " 0.000249757730211234  \n",
       " 2.09383380023e-5      \n",
       " 1.5023258174368083e-6 \n",
       " 9.4223441726045e-8    \n",
       " 5.24925017991187e-9   \n",
       " 2.6306151236874534e-10\n",
       " 1.198006746303137e-11 \n",
       " 4.999718179448405e-13 \n",
       " ⋮                     \n",
       " 1.5484784412116535e-23\n",
       " 3.8735030085246576e-25\n",
       " 9.22762198209667e-27  \n",
       " 2.0982239559437772e-28\n",
       " 4.563424055950105e-30 \n",
       " 9.511097932712494e-32 \n",
       " 1.902951751891382e-33 \n",
       " 3.660826744416803e-35 \n",
       " 6.781552053554111e-37 \n",
       " 1.2113645024171123e-38\n",
       " 2.089159981718168e-40 \n",
       " 3.482869794251483e-42 "
      ]
     },
     "execution_count": 6,
     "metadata": {},
     "output_type": "execute_result"
    }
   ],
   "source": [
    "J0 = Float64(0.7651976866)\n",
    "J1 = Float64(0.4400505857)\n",
    "\n",
    "prop1 = [0.7651976866, 0.4400505857, 0.114903484931900, 0.019563353982668405, 0.002476638964109, \n",
    "        0.000249757730211234, 2.09383380023e-5, 1.50232581743680821e-6, 9.42234417260450054e-8,\n",
    "        5.24925017991187e-9, 2.6306151236874532e-10, 1.1980067463031370e-11, 4.999718179448405289e-13, 1.92561676448017289036e-14, 6.8854082000442258385910e-16, 2.29753153221034444e-17, 7.1863965868074928286e-19, 2.11537556805326134e-20, 5.880344573595758340e-22, 1.5484784412116534205e-23, 3.8735030085246577189147e-25, 9.227621982096670229e-27,\n",
    "        2.0982239559437773488e-28, 4.563424055950105648e-30, 9.5110979327124938e-32,\n",
    "        1.902951751891382e-33, 3.66082674441680295e-35, 6.781552053554111228e-37, \n",
    "        1.211364502417112392e-38, 2.089159981718168173218e-40, 3.4828697942514829e-42]"
   ]
  },
  {
   "cell_type": "markdown",
   "metadata": {},
   "source": [
    "Wykres poprawnych wartości $J_n(1)$."
   ]
  },
  {
   "cell_type": "code",
   "execution_count": 7,
   "metadata": {},
   "outputs": [
    {
     "data": {
      "image/png": "[encoded data removed]",
      "text/plain": [
       "Figure(PyObject <Figure size 640x480 with 1 Axes>)"
      ]
     },
     "metadata": {},
     "output_type": "display_data"
    },
    {
     "data": {
      "text/plain": [
       "PyObject Text(28.000000000000007, 0.5, '$J_n(1)$')"
      ]
     },
     "execution_count": 7,
     "metadata": {},
     "output_type": "execute_result"
    }
   ],
   "source": [
    "x = 1:1:30;\n",
    "scatter(x, prop1[x])\n",
    "title(\"Wykres warości poprawnych \\$J_n(1)\\$\")\n",
    "xlabel(\"\\$n\\$\")\n",
    "ylabel(\"\\$J_n(1)\\$\")"
   ]
  },
  {
   "cell_type": "markdown",
   "metadata": {},
   "source": [
    "Tablica do wyliczania wartości $J_n(1)$ sposobem rekurencji w przód"
   ]
  },
  {
   "cell_type": "code",
   "execution_count": 8,
   "metadata": {},
   "outputs": [
    {
     "data": {
      "text/plain": [
       "2-element Array{Float64,1}:\n",
       " 0.7651976866\n",
       " 0.4400505857"
      ]
     },
     "execution_count": 8,
     "metadata": {},
     "output_type": "execute_result"
    }
   ],
   "source": [
    "Ji1 = zeros(0)\n",
    "append!(Ji1, J0)\n",
    "append!(Ji1, J1)"
   ]
  },
  {
   "cell_type": "markdown",
   "metadata": {},
   "source": [
    "Funkcja zwracająca błąd bezwzględny."
   ]
  },
  {
   "cell_type": "code",
   "execution_count": 9,
   "metadata": {},
   "outputs": [
    {
     "data": {
      "text/plain": [
       "err (generic function with 1 method)"
      ]
     },
     "execution_count": 9,
     "metadata": {},
     "output_type": "execute_result"
    }
   ],
   "source": [
    "function err(x, val)\n",
    "    return abs(x - val) / abs(val)\n",
    "end"
   ]
  },
  {
   "cell_type": "markdown",
   "metadata": {},
   "source": [
    "Funkcja wypisująca błąd bezwzględny dla tablicy przyblizeń."
   ]
  },
  {
   "cell_type": "code",
   "execution_count": 10,
   "metadata": {},
   "outputs": [
    {
     "data": {
      "text/plain": [
       "print_err (generic function with 1 method)"
      ]
     },
     "execution_count": 10,
     "metadata": {},
     "output_type": "execute_result"
    }
   ],
   "source": [
    "function print_err(A, n)\n",
    "    for i in 1:1:(n + 1)\n",
    "        @show err(A[i], prop1[i])\n",
    "    end\n",
    "end"
   ]
  },
  {
   "cell_type": "markdown",
   "metadata": {},
   "source": [
    "Funkcja wypisująca tablicę."
   ]
  },
  {
   "cell_type": "code",
   "execution_count": 11,
   "metadata": {},
   "outputs": [
    {
     "data": {
      "text/plain": [
       "print_array (generic function with 1 method)"
      ]
     },
     "execution_count": 11,
     "metadata": {},
     "output_type": "execute_result"
    }
   ],
   "source": [
    "function print_array(A, n)\n",
    "    for i in 1:1:(n + 1)\n",
    "        @show A[i]\n",
    "    end\n",
    "end"
   ]
  },
  {
   "cell_type": "markdown",
   "metadata": {},
   "source": [
    "Funkcje wypełniająca tablicę Ji1 przy pomocy rekurencji w przód."
   ]
  },
  {
   "cell_type": "code",
   "execution_count": 12,
   "metadata": {},
   "outputs": [
    {
     "data": {
      "text/plain": [
       "fill_Ji1 (generic function with 1 method)"
      ]
     },
     "execution_count": 12,
     "metadata": {},
     "output_type": "execute_result"
    }
   ],
   "source": [
    "function fill_Ji1(x)\n",
    "    for i in 2:1:20\n",
    "        next = (((Float32(2.0) * Float32(Float32(i) - Float32(1.0))) / Float32(x)) * Float32(Ji1[i])) - Float32(Ji1[i - 1])\n",
    "        append!(Ji1, next)\n",
    "    end\n",
    "end"
   ]
  },
  {
   "cell_type": "code",
   "execution_count": 13,
   "metadata": {},
   "outputs": [
    {
     "data": {
      "text/plain": [
       "fill_Ji2 (generic function with 1 method)"
      ]
     },
     "execution_count": 13,
     "metadata": {},
     "output_type": "execute_result"
    }
   ],
   "source": [
    "function fill_Ji2(x)\n",
    "    for i in 2:1:20\n",
    "        next = (((BigFloat(2.0) * BigFloat(BigFloat(i) - BigFloat(1.0))) / BigFloat(x)) * BigFloat(Ji1[i])) - BigFloat(Ji1[i - 1])\n",
    "        append!(Ji1, next)\n",
    "    end\n",
    "end"
   ]
  },
  {
   "cell_type": "markdown",
   "metadata": {},
   "source": [
    "Rekurencja w przod Float32."
   ]
  },
  {
   "cell_type": "code",
   "execution_count": 14,
   "metadata": {},
   "outputs": [
    {
     "name": "stdout",
     "output_type": "stream",
     "text": [
      "A[i] = 0.7651976866\n",
      "A[i] = 0.4400505857\n",
      "A[i] = 0.11490345001220703\n",
      "A[i] = 0.019563227891921997\n",
      "A[i] = 0.002475917339324951\n",
      "A[i] = 0.0002441108226776123\n",
      "A[i] = -3.4809112548828125e-5\n",
      "A[i] = -0.0006618201732635498\n",
      "A[i] = -0.00923067331314087\n",
      "A[i] = -0.14702895283699036\n",
      "A[i] = -2.6372904777526855\n",
      "A[i] = -52.59878158569336\n",
      "A[i] = -1154.535888671875\n",
      "A[i] = -27656.26171875\n",
      "A[i] = -717908.25\n",
      "A[i] = -2.0073776e7\n",
      "A[i] = -6.0149536e8\n",
      "A[i] = -1.9227777024e10\n",
      "A[i] = -6.5314291712e11\n",
      "A[i] = -2.3493915705344e13\n",
      "A[i] = -8.92115643006976e14\n",
      "err(A[i], prop1[i]) = 0.0\n",
      "err(A[i], prop1[i]) = 0.0\n",
      "err(A[i], prop1[i]) = 3.0390455947643653e-7\n",
      "err(A[i], prop1[i]) = 6.445252001176373e-6\n",
      "err(A[i], prop1[i]) = 0.00029137262011392817\n",
      "err(A[i], prop1[i]) = 0.022609540568957767\n",
      "err(A[i], prop1[i]) = 2.6624582402387653\n",
      "err(A[i], prop1[i]) = 441.530386672522\n",
      "err(A[i], prop1[i]) = 97966.78371631855\n",
      "err(A[i], prop1[i]) = 2.8009516225555286e7\n",
      "err(A[i], prop1[i]) = 1.002537564035189e10\n",
      "err(A[i], prop1[i]) = 4.3905246567281045e12\n",
      "err(A[i], prop1[i]) = 2.309201933456277e15\n",
      "err(A[i], prop1[i]) = 1.436228756879145e18\n",
      "err(A[i], prop1[i]) = 1.0426516905640958e21\n",
      "err(A[i], prop1[i]) = 8.737105767026399e23\n",
      "err(A[i], prop1[i]) = 8.369916031411371e26\n",
      "err(A[i], prop1[i]) = 9.089533468373631e29\n",
      "err(A[i], prop1[i]) = 1.1107221846365564e33\n",
      "err(A[i], prop1[i]) = 1.5172258831682848e36\n",
      "err(A[i], prop1[i]) = 2.3031236610469696e39\n"
     ]
    }
   ],
   "source": [
    "fill_Ji1(Float32(1.0))\n",
    "print_array(Ji1, 20)\n",
    "print_err(Ji1, 20)"
   ]
  },
  {
   "cell_type": "markdown",
   "metadata": {},
   "source": [
    "Wykres wartosci wyliczonych sposobem rekurencji w przód."
   ]
  },
  {
   "cell_type": "code",
   "execution_count": 15,
   "metadata": {},
   "outputs": [
    {
     "data": {
      "image/png": "[encoded data removed]",
      "text/plain": [
       "Figure(PyObject <Figure size 640x480 with 1 Axes>)"
      ]
     },
     "metadata": {},
     "output_type": "display_data"
    },
    {
     "data": {
      "text/plain": [
       "PyObject Text(77.72222222222221, 0.5, '$J_n(1)$')"
      ]
     },
     "execution_count": 15,
     "metadata": {},
     "output_type": "execute_result"
    }
   ],
   "source": [
    "x = 1:1:20;\n",
    "scatter(x, Ji1[x])\n",
    "title(\"Wykres warości funkcji Bessela wyliczonych sposobem rekurencji w przód - typ Float32\n",
    "    \")\n",
    "xlabel(\"\\$n\\$\")\n",
    "ylabel(\"\\$J_n(1)\\$\")"
   ]
  },
  {
   "cell_type": "markdown",
   "metadata": {},
   "source": [
    "Te same obliczenia wykonane z wiekszą recyzją."
   ]
  },
  {
   "cell_type": "code",
   "execution_count": 16,
   "metadata": {},
   "outputs": [
    {
     "name": "stdout",
     "output_type": "stream",
     "text": [
      "A[i] = 0.7651976866\n",
      "A[i] = 0.4400505857\n",
      "A[i] = 0.11490345001220703\n",
      "A[i] = 0.019563227891921997\n",
      "A[i] = 0.002475917339324951\n",
      "A[i] = 0.0002441108226776123\n",
      "A[i] = -3.4809112548828125e-5\n",
      "A[i] = -0.0006618201732635498\n",
      "A[i] = -0.00923067331314087\n",
      "A[i] = -0.14702895283699036\n",
      "A[i] = -2.6372904777526855\n",
      "A[i] = -52.59878158569336\n",
      "A[i] = -1154.535888671875\n",
      "A[i] = -27656.26171875\n",
      "A[i] = -717908.25\n",
      "A[i] = -2.0073776e7\n",
      "A[i] = -6.0149536e8\n",
      "A[i] = -1.9227777024e10\n",
      "A[i] = -6.5314291712e11\n",
      "A[i] = -2.3493915705344e13\n",
      "A[i] = -8.92115643006976e14\n",
      "err(A[i], prop1[i]) = 0.0\n",
      "err(A[i], prop1[i]) = 0.0\n",
      "err(A[i], prop1[i]) = 3.0390455947643653e-7\n",
      "err(A[i], prop1[i]) = 6.445252001176373e-6\n",
      "err(A[i], prop1[i]) = 0.00029137262011392817\n",
      "err(A[i], prop1[i]) = 0.022609540568957767\n",
      "err(A[i], prop1[i]) = 2.6624582402387653\n",
      "err(A[i], prop1[i]) = 441.530386672522\n",
      "err(A[i], prop1[i]) = 97966.78371631855\n",
      "err(A[i], prop1[i]) = 2.8009516225555286e7\n",
      "err(A[i], prop1[i]) = 1.002537564035189e10\n",
      "err(A[i], prop1[i]) = 4.3905246567281045e12\n",
      "err(A[i], prop1[i]) = 2.309201933456277e15\n",
      "err(A[i], prop1[i]) = 1.436228756879145e18\n",
      "err(A[i], prop1[i]) = 1.0426516905640958e21\n",
      "err(A[i], prop1[i]) = 8.737105767026399e23\n",
      "err(A[i], prop1[i]) = 8.369916031411371e26\n",
      "err(A[i], prop1[i]) = 9.089533468373631e29\n",
      "err(A[i], prop1[i]) = 1.1107221846365564e33\n",
      "err(A[i], prop1[i]) = 1.5172258831682848e36\n",
      "err(A[i], prop1[i]) = 2.3031236610469696e39\n"
     ]
    }
   ],
   "source": [
    "fill_Ji2(BigFloat(1.0))\n",
    "print_array(Ji1, 20)\n",
    "print_err(Ji1, 20)"
   ]
  },
  {
   "cell_type": "code",
   "execution_count": 17,
   "metadata": {},
   "outputs": [
    {
     "data": {
      "image/png": "[encoded data removed]",
      "text/plain": [
       "Figure(PyObject <Figure size 640x480 with 1 Axes>)"
      ]
     },
     "metadata": {},
     "output_type": "display_data"
    },
    {
     "data": {
      "text/plain": [
       "PyObject Text(80.40972222222221, 0.5, '$J_n(1)$')"
      ]
     },
     "execution_count": 17,
     "metadata": {},
     "output_type": "execute_result"
    }
   ],
   "source": [
    "x = 1:1:20;\n",
    "scatter(x, Ji1[x])\n",
    "title(\"Wykres warości funkcji Bessela wyliczonych sposobem rekurencji w przód - typ BigFloat\n",
    "    \")\n",
    "xlabel(\"\\$n\\$\")\n",
    "ylabel(\"\\$J_n(1)\\$\")"
   ]
  },
  {
   "cell_type": "markdown",
   "metadata": {},
   "source": [
    "Tablice do wyliczania wartości funkcji Bessela algorytmem Millera."
   ]
  },
  {
   "cell_type": "code",
   "execution_count": 18,
   "metadata": {},
   "outputs": [
    {
     "data": {
      "text/plain": [
       "0-element Array{Float64,1}"
      ]
     },
     "execution_count": 18,
     "metadata": {},
     "output_type": "execute_result"
    }
   ],
   "source": [
    "C25 = zeros(0)\n",
    "C30 = zeros(0)"
   ]
  },
  {
   "cell_type": "markdown",
   "metadata": {},
   "source": [
    "Funkcja wypełniająca tablicę C25 algorytmem Millera dla $N = 25$."
   ]
  },
  {
   "cell_type": "code",
   "execution_count": 19,
   "metadata": {},
   "outputs": [
    {
     "data": {
      "text/plain": [
       "fill_C25 (generic function with 1 method)"
      ]
     },
     "execution_count": 19,
     "metadata": {},
     "output_type": "execute_result"
    }
   ],
   "source": [
    "function fill_C25(x)\n",
    "    for i in 1:1:27\n",
    "        append!(C25, Float64(0.0))\n",
    "    end\n",
    "    C25[27] = 0.0\n",
    "    C25[26] = 1.0\n",
    "\n",
    "    for i in 24:-1:0\n",
    "        next = (((Float32(2.0) * Float32(i + Float32(1.0))) / x) * Float32(C25[i + 2])) - \n",
    "        Float32(C25[i + 3])\n",
    "        C25[i + 1] = next\n",
    "    end\n",
    "    λ = J0 / C25[1]\n",
    "    for i in 1:1:26\n",
    "        C25[i] = C25[i] * λ\n",
    "    end \n",
    "end"
   ]
  },
  {
   "cell_type": "markdown",
   "metadata": {},
   "source": [
    "Funkcja wypełniająca tablicę C30 algorytmem Millera dla $N = 30$, typ Float32."
   ]
  },
  {
   "cell_type": "code",
   "execution_count": 20,
   "metadata": {},
   "outputs": [
    {
     "data": {
      "text/plain": [
       "fill_C30 (generic function with 1 method)"
      ]
     },
     "execution_count": 20,
     "metadata": {},
     "output_type": "execute_result"
    }
   ],
   "source": [
    "function fill_C30(x)\n",
    "    for i in 1:1:32\n",
    "        append!(C30, Float64(0.0))\n",
    "    end\n",
    "    C30[32] = 0.0\n",
    "    C30[31] = 1.0\n",
    "\n",
    "    for i in 29:-1:0\n",
    "        next = (((Float32(2.0) * Float32(i + Float32(1.0))) / x) * Float32(C30[i + 2])) - \n",
    "        Float64(C30[i + 3])\n",
    "        C30[i + 1] = next\n",
    "        @show next\n",
    "    end\n",
    "    λ = J0 / C30[1]\n",
    "    for i in 1:1:31\n",
    "        C30[i] = C30[i] * λ\n",
    "    end \n",
    "end"
   ]
  },
  {
   "cell_type": "markdown",
   "metadata": {},
   "source": [
    "Funkcja wypełniająca tablicę C30 algorytmem Millera dla $N = 30$, typ Float64."
   ]
  },
  {
   "cell_type": "code",
   "execution_count": 21,
   "metadata": {},
   "outputs": [
    {
     "data": {
      "text/plain": [
       "fill_C30_2 (generic function with 1 method)"
      ]
     },
     "execution_count": 21,
     "metadata": {},
     "output_type": "execute_result"
    }
   ],
   "source": [
    "function fill_C30_2(x)\n",
    "    for i in 1:1:32\n",
    "        append!(C30, Float64(0.0))\n",
    "    end\n",
    "    C30[32] = 0.0\n",
    "    C30[31] = 1.0\n",
    "\n",
    "    for i in 29:-1:0\n",
    "        next = (((Float64(2.0) * Float64(i + Float64(1.0))) / x) * Float64(C30[i + 2])) - \n",
    "        Float64(C30[i + 3])\n",
    "        C30[i + 1] = next\n",
    "        @show next\n",
    "    end\n",
    "    λ = J0 / C30[1]\n",
    "    for i in 1:1:31\n",
    "        C30[i] = C30[i] * λ\n",
    "    end \n",
    "end"
   ]
  },
  {
   "cell_type": "code",
   "execution_count": 22,
   "metadata": {},
   "outputs": [
    {
     "ename": "LoadError",
     "evalue": "syntax: extra token \"wypełniająca\" after end of expression",
     "output_type": "error",
     "traceback": [
      "syntax: extra token \"wypełniająca\" after end of expression",
      ""
     ]
    }
   ],
   "source": [
    "Funkcja wypełniająca tablicę C30 algorytmem Millera dla  𝑁=30 ."
   ]
  },
  {
   "cell_type": "markdown",
   "metadata": {},
   "source": [
    "Funkcja wypełniająca tablicę C25 algorytmem Millera dla N = 25, z innymi wartościami początkowymi."
   ]
  },
  {
   "cell_type": "code",
   "execution_count": 23,
   "metadata": {},
   "outputs": [
    {
     "data": {
      "text/plain": [
       "fill_C25_2 (generic function with 1 method)"
      ]
     },
     "execution_count": 23,
     "metadata": {},
     "output_type": "execute_result"
    }
   ],
   "source": [
    "function fill_C25_2(x)\n",
    "    for i in 1:1:27\n",
    "        append!(C25, Float64(0.0))\n",
    "    end\n",
    "    C25[27] = 4.1\n",
    "    C25[26] = 2.1\n",
    "\n",
    "    for i in 24:-1:0\n",
    "        next = (((Float32(2.0) * Float32(i + Float32(1.0))) / x) * Float32(C25[i + 2])) - \n",
    "        Float32(C25[i + 3])\n",
    "        C25[i + 1] = next\n",
    "    end\n",
    "    λ = J0 / C25[1]\n",
    "    for i in 1:1:26\n",
    "        C25[i] = C25[i] * λ\n",
    "    end \n",
    "end"
   ]
  },
  {
   "cell_type": "markdown",
   "metadata": {},
   "source": [
    "Obliczenia wykonane algorytmem Millera."
   ]
  },
  {
   "cell_type": "code",
   "execution_count": 24,
   "metadata": {},
   "outputs": [
    {
     "name": "stdout",
     "output_type": "stream",
     "text": [
      "A[i] = 0.7651976866\n",
      "A[i] = 0.4400505982355161\n",
      "A[i] = 0.11490349147389585\n",
      "A[i] = 0.01956335616185704\n",
      "A[i] = 0.0024766391732307554\n",
      "A[i] = 0.0002497577450016566\n",
      "A[i] = 2.0938339666647712e-5\n",
      "A[i] = 1.5023258048325199e-6\n",
      "A[i] = 9.422344321959438e-8\n",
      "A[i] = 5.249249946405106e-9\n",
      "A[i] = 2.630614869417755e-10\n",
      "A[i] = 1.198006656909919e-11\n",
      "A[i] = 4.999717891007347e-13\n",
      "A[i] = 1.9256166441752884e-14\n",
      "A[i] = 6.885408031513773e-16\n",
      "A[i] = 2.2975315273387865e-17\n",
      "A[i] = 7.186396677373934e-19\n",
      "A[i] = 2.115375711768709e-20\n",
      "A[i] = 5.880344962009587e-22\n",
      "A[i] = 1.5484784504873698e-23\n",
      "A[i] = 3.8735031986789687e-25\n",
      "A[i] = 9.22762216319746e-27\n",
      "A[i] = 2.098223997123327e-28\n",
      "A[i] = 4.56342414517956e-30\n",
      "A[i] = 9.511096592704376e-32\n",
      "A[i] = 1.9022193185408752e-33\n",
      "err(A[i], prop1[i]) = 0.0\n",
      "err(A[i], prop1[i]) = 2.8486534349641307e-8\n",
      "err(A[i], prop1[i]) = 5.693470351832169e-8\n",
      "err(A[i], prop1[i]) = 1.1139136147253551e-7\n",
      "err(A[i], prop1[i]) = 8.443772327460019e-8\n",
      "err(A[i], prop1[i]) = 5.921907827801868e-8\n",
      "err(A[i], prop1[i]) = 7.948805262758558e-8\n",
      "err(A[i], prop1[i]) = 8.389850082215022e-9\n",
      "err(A[i], prop1[i]) = 1.5851144319630844e-8\n",
      "err(A[i], prop1[i]) = 4.4483832157345895e-8\n",
      "err(A[i], prop1[i]) = 9.665788669843166e-8\n",
      "err(A[i], prop1[i]) = 7.461829265454372e-8\n",
      "err(A[i], prop1[i]) = 5.76914633809918e-8\n",
      "err(A[i], prop1[i]) = 6.247602681903328e-8\n",
      "err(A[i], prop1[i]) = 2.447646489426778e-8\n",
      "err(A[i], prop1[i]) = 2.1203442731697304e-9\n",
      "err(A[i], prop1[i]) = 1.2602482969443281e-8\n",
      "err(A[i], prop1[i]) = 6.793850216857825e-8\n",
      "err(A[i], prop1[i]) = 6.605290281804359e-8\n",
      "err(A[i], prop1[i]) = 5.990213399569447e-9\n",
      "err(A[i], prop1[i]) = 4.9091045156014705e-8\n",
      "err(A[i], prop1[i]) = 1.9625943690207422e-8\n",
      "err(A[i], prop1[i]) = 1.962590780471673e-8\n",
      "err(A[i], prop1[i]) = 1.9553180543027622e-8\n",
      "err(A[i], prop1[i]) = 1.4088889914377573e-7\n",
      "err(A[i], prop1[i]) = 0.00038489328475031266\n"
     ]
    }
   ],
   "source": [
    "fill_C25(Float32(1.0))\n",
    "print_array(C25, 25)\n",
    "print_err(C25, 25)"
   ]
  },
  {
   "cell_type": "code",
   "execution_count": 27,
   "metadata": {},
   "outputs": [
    {
     "name": "stdout",
     "output_type": "stream",
     "text": [
      "A[i] = 0.7651976866\n",
      "A[i] = 0.44005057203004627\n",
      "A[i] = 0.1149034848101227\n",
      "A[i] = 0.019563353535429463\n",
      "A[i] = 0.002476638966519408\n",
      "A[i] = 0.000249757733769561\n",
      "A[i] = 2.0938337789934257e-5\n",
      "A[i] = 1.5023258304657691e-6\n",
      "A[i] = 9.422344534119277e-8\n",
      "A[i] = 5.249250434820268e-9\n",
      "A[i] = 2.630615346285723e-10\n",
      "A[i] = 1.1980068836065399e-11\n",
      "A[i] = 4.999719044588955e-13\n",
      "A[i] = 1.9256170310495876e-14\n",
      "A[i] = 6.885409744703028e-16\n",
      "A[i] = 2.2975320812244678e-17\n",
      "A[i] = 7.186398387526958e-19\n",
      "A[i] = 2.1153760964926618e-20\n",
      "A[i] = 5.880346108022644e-22\n",
      "A[i] = 1.548478746480742e-23\n",
      "A[i] = 3.873503851214685e-25\n",
      "A[i] = 9.227624266154853e-27\n",
      "A[i] = 2.098224360234359e-28\n",
      "A[i] = 4.563425178332598e-30\n",
      "A[i] = 9.511260039953354e-32\n",
      "A[i] = 1.9795487901013617e-33\n",
      "err(A[i], prop1[i]) = 0.0\n",
      "err(A[i], prop1[i]) = 3.106450523817067e-8\n",
      "err(A[i], prop1[i]) = 1.0598224819047203e-9\n",
      "err(A[i], prop1[i]) = 2.2861056479513607e-8\n",
      "err(A[i], prop1[i]) = 9.732578221779424e-10\n",
      "err(A[i], prop1[i]) = 1.4247114473328787e-8\n",
      "err(A[i], prop1[i]) = 1.014243548712154e-8\n",
      "err(A[i], prop1[i]) = 8.672526753888328e-9\n",
      "err(A[i], prop1[i]) = 3.836781692999096e-8\n",
      "err(A[i], prop1[i]) = 4.856091618437858e-8\n",
      "err(A[i], prop1[i]) = 8.461833419934827e-8\n",
      "err(A[i], prop1[i]) = 1.1460987456023819e-7\n",
      "err(A[i], prop1[i]) = 1.7303786309218603e-7\n",
      "err(A[i], prop1[i]) = 1.3843326434481053e-7\n",
      "err(A[i], prop1[i]) = 2.2433801426234906e-7\n",
      "err(A[i], prop1[i]) = 2.3895825402810353e-7\n",
      "err(A[i], prop1[i]) = 2.5057334966321496e-7\n",
      "err(A[i], prop1[i]) = 2.4980878500500366e-7\n",
      "err(A[i], prop1[i]) = 2.609416620539986e-7\n",
      "err(A[i], prop1[i]) = 1.9714132300888436e-7\n",
      "err(A[i], prop1[i]) = 2.175524390533944e-7\n",
      "err(A[i], prop1[i]) = 2.4752403026216563e-7\n",
      "err(A[i], prop1[i]) = 1.926822828492366e-7\n",
      "err(A[i], prop1[i]) = 2.459518289142531e-7\n",
      "err(A[i], prop1[i]) = 1.7044009220316945e-5\n",
      "err(A[i], prop1[i]) = 0.04025169746623808\n"
     ]
    }
   ],
   "source": [
    "fill_C25_2(Float32(1.0))\n",
    "print_array(C25, 25)\n",
    "print_err(C25, 25)"
   ]
  },
  {
   "cell_type": "code",
   "execution_count": 28,
   "metadata": {},
   "outputs": [
    {
     "data": {
      "image/png": "[encoded data removed]",
      "text/plain": [
       "Figure(PyObject <Figure size 640x480 with 1 Axes>)"
      ]
     },
     "metadata": {},
     "output_type": "display_data"
    },
    {
     "data": {
      "text/plain": [
       "PyObject Text(28.000000000000007, 0.5, '$J_n(1)$')"
      ]
     },
     "execution_count": 28,
     "metadata": {},
     "output_type": "execute_result"
    }
   ],
   "source": [
    "x = 1:1:25;\n",
    "scatter(x, C25[x])\n",
    "title(\"Wykres warości funkcji Bessela wyliczonych algorytmem Millera\n",
    "    \")\n",
    "xlabel(\"\\$n\\$\")\n",
    "ylabel(\"\\$J_n(1)\\$\")"
   ]
  },
  {
   "cell_type": "code",
   "execution_count": 29,
   "metadata": {},
   "outputs": [
    {
     "name": "stdout",
     "output_type": "stream",
     "text": [
      "next = 60.0\n",
      "next = 3479.0\n",
      "next = 194764.0\n",
      "next = 1.0513777e7\n",
      "next = 5.46521652e8\n",
      "next = 2.7315569295e10\n",
      "next = 1.310600773068e12\n",
      "next = 6.0260318281073e13\n",
      "next = 2.650143435997748e15\n",
      "next = 1.1124576707271131e17\n",
      "next = 4.4471806165571825e18\n",
      "next = 1.6888161554414525e20\n",
      "next = 6.075290719143674e21\n",
      "next = 2.0639100312241437e23\n",
      "next = 6.598436701342684e24\n",
      "next = 1.9774670800975513e26\n",
      "next = 5.530309561036746e27\n",
      "next = 1.43590303561816e29\n",
      "next = 3.440636956378429e30\n",
      "next = 7.555042264815751e31\n",
      "next = 1.507567775272184e33\n",
      "next = 2.7060669642665607e34\n",
      "next = 4.314631295801866e35\n",
      "next = 6.013423106980771e36\n",
      "next = 7.172961827684538e37\n",
      "next = Inf\n",
      "next = Inf\n",
      "next = NaN\n",
      "next = NaN\n",
      "next = NaN\n",
      "A[i] = NaN\n",
      "A[i] = NaN\n",
      "A[i] = NaN\n",
      "A[i] = NaN\n",
      "A[i] = NaN\n",
      "A[i] = NaN\n",
      "A[i] = NaN\n",
      "A[i] = NaN\n",
      "A[i] = NaN\n",
      "A[i] = NaN\n",
      "A[i] = NaN\n",
      "A[i] = NaN\n",
      "A[i] = NaN\n",
      "A[i] = NaN\n",
      "A[i] = NaN\n",
      "A[i] = NaN\n",
      "A[i] = NaN\n",
      "A[i] = NaN\n",
      "A[i] = NaN\n",
      "A[i] = NaN\n",
      "A[i] = NaN\n",
      "A[i] = NaN\n",
      "A[i] = NaN\n",
      "A[i] = NaN\n",
      "A[i] = NaN\n",
      "A[i] = NaN\n",
      "A[i] = NaN\n",
      "A[i] = NaN\n",
      "A[i] = NaN\n",
      "A[i] = NaN\n",
      "A[i] = NaN\n",
      "err(A[i], prop1[i]) = NaN\n",
      "err(A[i], prop1[i]) = NaN\n",
      "err(A[i], prop1[i]) = NaN\n",
      "err(A[i], prop1[i]) = NaN\n",
      "err(A[i], prop1[i]) = NaN\n",
      "err(A[i], prop1[i]) = NaN\n",
      "err(A[i], prop1[i]) = NaN\n",
      "err(A[i], prop1[i]) = NaN\n",
      "err(A[i], prop1[i]) = NaN\n",
      "err(A[i], prop1[i]) = NaN\n",
      "err(A[i], prop1[i]) = NaN\n",
      "err(A[i], prop1[i]) = NaN\n",
      "err(A[i], prop1[i]) = NaN\n",
      "err(A[i], prop1[i]) = NaN\n",
      "err(A[i], prop1[i]) = NaN\n",
      "err(A[i], prop1[i]) = NaN\n",
      "err(A[i], prop1[i]) = NaN\n",
      "err(A[i], prop1[i]) = NaN\n",
      "err(A[i], prop1[i]) = NaN\n",
      "err(A[i], prop1[i]) = NaN\n",
      "err(A[i], prop1[i]) = NaN\n",
      "err(A[i], prop1[i]) = NaN\n",
      "err(A[i], prop1[i]) = NaN\n",
      "err(A[i], prop1[i]) = NaN\n",
      "err(A[i], prop1[i]) = NaN\n",
      "err(A[i], prop1[i]) = NaN\n",
      "err(A[i], prop1[i]) = NaN\n",
      "err(A[i], prop1[i]) = NaN\n",
      "err(A[i], prop1[i]) = NaN\n",
      "err(A[i], prop1[i]) = NaN\n",
      "err(A[i], prop1[i]) = NaN\n"
     ]
    }
   ],
   "source": [
    "fill_C30(Float32(1.0))\n",
    "print_array(C30, 30)\n",
    "print_err(C30, 30)"
   ]
  },
  {
   "cell_type": "code",
   "execution_count": 30,
   "metadata": {},
   "outputs": [
    {
     "name": "stdout",
     "output_type": "stream",
     "text": [
      "next = 60.0\n",
      "next = 3479.0\n",
      "next = 194764.0\n",
      "next = 1.0513777e7\n",
      "next = 5.4652164e8\n",
      "next = 2.7315568223e10\n",
      "next = 1.310600753064e12\n",
      "next = 6.0260319072721e13\n",
      "next = 2.65014343844666e15\n",
      "next = 1.1124576409568699e17\n",
      "next = 4.447180420389033e18\n",
      "next = 1.6888161021068758e20\n",
      "next = 6.075290787164364e21\n",
      "next = 2.0639100515337767e23\n",
      "next = 6.598436874120921e24\n",
      "next = 1.9774671521847425e26\n",
      "next = 5.530309589243158e27\n",
      "next = 1.4359030260510361e29\n",
      "next = 3.4406369529332436e30\n",
      "next = 7.555042266192626e31\n",
      "next = 1.507567816285592e33\n",
      "next = 2.706067027047873e34\n",
      "next = 4.3146315651137405e35\n",
      "next = 6.013423520888759e36\n",
      "next = 7.172961909415374e37\n",
      "next = 7.112827674206487e38\n",
      "next = 5.618532520271036e39\n",
      "next = 3.299991235420557e40\n",
      "next = 1.2638111689655125e41\n",
      "next = 2.197623214388969e41\n",
      "A[i] = 0.7651976866\n",
      "A[i] = 0.44005058576910616\n",
      "A[i] = 0.1149034849382123\n",
      "A[i] = 0.019563353983743047\n",
      "A[i] = 0.002476638964246\n",
      "A[i] = 0.00024975773022495394\n",
      "A[i] = 2.093833800353944e-5\n",
      "A[i] = 1.5023258175193326e-6\n",
      "A[i] = 9.42234417312208e-8\n",
      "A[i] = 5.249250180200222e-9\n",
      "A[i] = 2.6306151238319557e-10\n",
      "A[i] = 1.1980067463689449e-11\n",
      "A[i] = 4.999718179723045e-13\n",
      "A[i] = 1.9256167645859492e-14\n",
      "A[i] = 6.88540820042245e-16\n",
      "A[i] = 2.2975315323365507e-17\n",
      "A[i] = 7.18639658720225e-19\n",
      "A[i] = 2.1153755681694617e-20\n",
      "A[i] = 5.880344573918773e-22\n",
      "A[i] = 1.548478441296713e-23\n",
      "A[i] = 3.873503008737434e-25\n",
      "A[i] = 9.227621982603555e-27\n",
      "A[i] = 2.0982239560590353e-28\n",
      "A[i] = 4.56342405620078e-30\n",
      "A[i] = 9.51109793323495e-32\n",
      "A[i] = 1.9029517519959136e-33\n",
      "A[i] = 3.660826744617897e-35\n",
      "A[i] = 6.781552053926577e-37\n",
      "A[i] = 1.2113645024547946e-38\n",
      "A[i] = 2.0891598202727125e-40\n",
      "A[i] = 3.4819330337878546e-42\n",
      "err(A[i], prop1[i]) = 0.0\n",
      "err(A[i], prop1[i]) = 1.5704141178399132e-10\n",
      "err(A[i], prop1[i]) = 5.493565238980972e-11\n",
      "err(A[i], prop1[i]) = 5.493147274669376e-11\n",
      "err(A[i], prop1[i]) = 5.53169929818272e-11\n",
      "err(A[i], prop1[i]) = 5.493294625914826e-11\n",
      "err(A[i], prop1[i]) = 5.919474576532992e-11\n",
      "err(A[i], prop1[i]) = 5.493102861629384e-11\n",
      "err(A[i], prop1[i]) = 5.4931073726281875e-11\n",
      "err(A[i], prop1[i]) = 5.4932007987924934e-11\n",
      "err(A[i], prop1[i]) = 5.4930973313900965e-11\n",
      "err(A[i], prop1[i]) = 5.493113664562814e-11\n",
      "err(A[i], prop1[i]) = 5.493103920758596e-11\n",
      "err(A[i], prop1[i]) = 5.4931049584575824e-11\n",
      "err(A[i], prop1[i]) = 5.4931280818825294e-11\n",
      "err(A[i], prop1[i]) = 5.493127800891337e-11\n",
      "err(A[i], prop1[i]) = 5.493113175256134e-11\n",
      "err(A[i], prop1[i]) = 5.49313242983293e-11\n",
      "err(A[i], prop1[i]) = 5.493139036547265e-11\n",
      "err(A[i], prop1[i]) = 5.493111856288187e-11\n",
      "err(A[i], prop1[i]) = 5.4931263934754757e-11\n",
      "err(A[i], prop1[i]) = 5.4931225737016195e-11\n",
      "err(A[i], prop1[i]) = 5.49312343455358e-11\n",
      "err(A[i], prop1[i]) = 5.4931291934191114e-11\n",
      "err(A[i], prop1[i]) = 5.4931262393562935e-11\n",
      "err(A[i], prop1[i]) = 5.493125527652619e-11\n",
      "err(A[i], prop1[i]) = 5.4931309196085546e-11\n",
      "err(A[i], prop1[i]) = 5.492336104632713e-11\n",
      "err(A[i], prop1[i]) = 3.11073406613847e-11\n",
      "err(A[i], prop1[i]) = 7.727768907050898e-8\n",
      "err(A[i], prop1[i]) = 0.0002689622406139385\n"
     ]
    }
   ],
   "source": [
    "C30 = zeros(0)\n",
    "fill_C30_2(Float64(1.0))\n",
    "print_array(C30, 30)\n",
    "print_err(C30, 30)"
   ]
  }
 ],
 "metadata": {
  "kernelspec": {
   "display_name": "Julia 1.0.1",
   "language": "julia",
   "name": "julia-1.0"
  },
  "language_info": {
   "file_extension": ".jl",
   "mimetype": "application/julia",
   "name": "julia",
   "version": "1.0.1"
  }
 },
 "nbformat": 4,
 "nbformat_minor": 2
}
